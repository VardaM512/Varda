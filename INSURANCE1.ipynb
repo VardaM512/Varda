{
 "cells": [
  {
   "cell_type": "code",
   "execution_count": 58,
   "id": "bdfd85ff-7858-4dda-abd3-af27e5ebc000",
   "metadata": {},
   "outputs": [],
   "source": [
    "#Reading Files#"
   ]
  },
  {
   "cell_type": "code",
   "execution_count": 60,
   "id": "8e8b21ae-0803-49e6-9488-4e99cef73c73",
   "metadata": {},
   "outputs": [
    {
     "name": "stdout",
     "output_type": "stream",
     "text": [
      "      age     bmi  children      charges  sex_male  smoker_yes  \\\n",
      "0      19  27.900         0  16884.92400     False        True   \n",
      "1      18  33.770         1   1725.55230      True       False   \n",
      "2      28  33.000         3   4449.46200      True       False   \n",
      "3      33  22.705         0  21984.47061      True       False   \n",
      "4      32  28.880         0   3866.85520      True       False   \n",
      "...   ...     ...       ...          ...       ...         ...   \n",
      "1333   50  30.970         3  10600.54830      True       False   \n",
      "1334   18  31.920         0   2205.98080     False       False   \n",
      "1335   18  36.850         0   1629.83350     False       False   \n",
      "1336   21  25.800         0   2007.94500     False       False   \n",
      "1337   61  29.070         0  29141.36030     False        True   \n",
      "\n",
      "      region_northwest  region_southeast  region_southwest  \n",
      "0                False             False              True  \n",
      "1                False              True             False  \n",
      "2                False              True             False  \n",
      "3                 True             False             False  \n",
      "4                 True             False             False  \n",
      "...                ...               ...               ...  \n",
      "1333              True             False             False  \n",
      "1334             False             False             False  \n",
      "1335             False              True             False  \n",
      "1336             False             False              True  \n",
      "1337              True             False             False  \n",
      "\n",
      "[1338 rows x 9 columns]\n"
     ]
    }
   ],
   "source": [
    "import pandas as pd\n",
    "import numpy as np\n",
    "import matplotlib.pyplot as plt \n",
    "import seaborn as sns\n",
    "\n",
    "\n",
    "insurance = pd.read_csv(\"insurance.csv\")\n",
    "insurance_encoded = pd.get_dummies(insurance, drop_first=True)\n",
    "print(insurance_encoded)"
   ]
  },
  {
   "cell_type": "code",
   "execution_count": 62,
   "id": "3f3f2763-8a45-4fd1-af98-313bc192538d",
   "metadata": {},
   "outputs": [],
   "source": [
    "#Cleaning Data#"
   ]
  },
  {
   "cell_type": "code",
   "execution_count": 64,
   "id": "8836812f-deea-4de7-8112-48b641fc51af",
   "metadata": {},
   "outputs": [
    {
     "name": "stdout",
     "output_type": "stream",
     "text": [
      "age                 0\n",
      "bmi                 0\n",
      "children            0\n",
      "charges             0\n",
      "sex_male            0\n",
      "smoker_yes          0\n",
      "region_northwest    0\n",
      "region_southeast    0\n",
      "region_southwest    0\n",
      "dtype: int64\n",
      "(1338, 9)\n"
     ]
    }
   ],
   "source": [
    "print(insurance_encoded.isnull().sum())\n",
    "\n",
    "\n",
    "print(insurance_encoded.shape)\n"
   ]
  },
  {
   "cell_type": "code",
   "execution_count": 66,
   "id": "e660cd5d-eb18-4c7e-b7d5-d12c561f0389",
   "metadata": {},
   "outputs": [],
   "source": [
    "#Calculating training set and test set#"
   ]
  },
  {
   "cell_type": "code",
   "execution_count": 68,
   "id": "00bb6795-3096-4820-918f-9d18175b853a",
   "metadata": {},
   "outputs": [],
   "source": [
    "def train_test_split(*arrays, test_size=None, train_size=None, random_state=None, shuffle=True):\n",
    "    if len(arrays) == 0:\n",
    "        raise ValueError(\"At least one array required.\")\n",
    "    n_samples = len(arrays[0])\n",
    "    for arr in arrays:\n",
    "        if len(arr) != n_samples:\n",
    "            raise ValueError(\"All input arrays must have the same length.\")\n",
    "    if isinstance(random_state, int):\n",
    "        rng = np.random.RandomState(random_state)\n",
    "    else:\n",
    "        rng = np.random if random_state is None else random_state\n",
    "    if test_size is None and train_size is None:\n",
    "        test_size = 0.25\n",
    "    if test_size is not None:\n",
    "        n_test = int(np.ceil(test_size * n_samples)) if isinstance(test_size, float) else int(test_size)\n",
    "    else:\n",
    "        n_test = n_samples - int(train_size)\n",
    "    n_train = n_samples - n_test\n",
    "    indices = rng.permutation(n_samples) if shuffle else np.arange(n_samples)\n",
    "    train_indices = indices[:n_train]\n",
    "    test_indices = indices[n_train:]\n",
    "    result = []\n",
    "    for arr in arrays:\n",
    "        arr_np = np.array(arr) \n",
    "        result.append(arr_np[train_indices])\n",
    "        result.append(arr_np[test_indices])\n",
    "    return result\n"
   ]
  },
  {
   "cell_type": "code",
   "execution_count": 70,
   "id": "36f83b2e-052d-451d-886e-41c882bc2db3",
   "metadata": {},
   "outputs": [
    {
     "name": "stdout",
     "output_type": "stream",
     "text": [
      "(1070, 8)\n",
      "(268, 8)\n",
      "(268,)\n",
      "(1070,)\n"
     ]
    }
   ],
   "source": [
    "X = insurance_encoded.drop(\"charges\", axis=1)\n",
    "y = insurance_encoded[\"charges\"]\n",
    "\n",
    "X_train, X_test, y_train, y_test = train_test_split(X, y, test_size=0.2, random_state=42)\n",
    "\n",
    "print(X_train.shape)\n",
    "print(X_test.shape)\n",
    "print(y_test.shape) \n",
    "print(y_train.shape) "
   ]
  },
  {
   "cell_type": "code",
   "execution_count": 72,
   "id": "59315859-cbde-4cea-be87-c5259aa088c6",
   "metadata": {},
   "outputs": [],
   "source": [
    "#Linear Regression & Gradient Descent#"
   ]
  },
  {
   "cell_type": "code",
   "execution_count": 74,
   "id": "9bd9d400-8211-48b6-944d-aaee505773e9",
   "metadata": {},
   "outputs": [],
   "source": [
    "def compute_cost_linear(X, y, w, b, lambda_=1):\n",
    "    m = X.shape[0]\n",
    "    cost = 0\n",
    "    for i in range(m):\n",
    "        f_wb_i = np.dot(X[i], w) + b\n",
    "        cost += (f_wb_i - y[i])**2\n",
    "    cost /= (2 * m)\n",
    "\n",
    "   \n",
    "    reg_cost = (lambda_ / (2 * m)) * np.sum(w**2)\n",
    "    total_cost = cost + reg_cost\n",
    "    return total_cost"
   ]
  },
  {
   "cell_type": "code",
   "execution_count": 76,
   "id": "e90f29d8-6f85-49cc-83b1-b05100f58025",
   "metadata": {},
   "outputs": [],
   "source": [
    "def compute_gradient_linear_reg(X, y, w, b, lambda_):\n",
    "    m, n = X.shape\n",
    "    dj_dw = np.zeros((n,))\n",
    "    dj_db = 0.\n",
    "\n",
    "    for i in range(m):\n",
    "        err = (np.dot(X[i], w) + b) - y[i]\n",
    "        for j in range(n):\n",
    "            dj_dw[j] += err * X[i, j]\n",
    "        dj_db += err\n",
    "    dj_dw /= m\n",
    "    dj_db /= m\n",
    "    dj_dw += (lambda_ / m) * w\n",
    "\n",
    "    return dj_dw, dj_db"
   ]
  },
  {
   "cell_type": "code",
   "execution_count": 78,
   "id": "8ede5025-06a0-4b6c-bcba-ab217a430fa3",
   "metadata": {},
   "outputs": [],
   "source": [
    "def gradient_descent(x, y, w_init, b_init, learning_rate, iterations, lambda_=1):\n",
    "    w = w_init\n",
    "    b = b_init\n",
    "    for i in range(iterations):\n",
    "        dj_dw, dj_db = compute_gradient_linear_reg(x, y, w, b, lambda_)\n",
    "\n",
    "       \n",
    "        w = w - learning_rate * dj_dw\n",
    "        b = b - learning_rate * dj_db\n",
    "\n",
    "        if i % 100 == 0 or i == iterations - 1:\n",
    "            cost = compute_cost_linear(x, y, w, b, lambda_)\n",
    "            w_str = \", \".join([f\"{wi:.4f}\" for wi in w])\n",
    "            print(f\"Iteration {i+1}: Cost = {cost:.4f}, w = [{w_str}], b = {b:.4f}\")\n",
    "    return w, b"
   ]
  },
  {
   "cell_type": "code",
   "execution_count": 80,
   "id": "3a44503f-69cb-4291-9483-436cfcd12961",
   "metadata": {},
   "outputs": [
    {
     "name": "stdout",
     "output_type": "stream",
     "text": [
      "Iteration 1: Cost = 157859174.8582, w = [35.6385, 23.4126, 7.2086, 8.2793, 94.2672, -3.1276, 8.2637, -4.3743], b = 133.1471\n",
      "Iteration 101: Cost = 36974797.0130, w = [2295.0996, 1328.7436, 429.5666, 292.6543, 6017.2578, -58.3165, 163.3471, -180.4410], b = 8489.8333\n",
      "Iteration 201: Cost = 20681210.3586, w = [3142.0329, 1723.9006, 548.3089, 202.6494, 8218.3167, -13.1524, -44.9378, -205.0639], b = 11548.6508\n",
      "Iteration 301: Cost = 18420804.4546, w = [3458.2181, 1866.8636, 574.9194, 101.5090, 9049.7763, -5.8445, -211.1154, -229.3863], b = 12668.2769\n",
      "Iteration 401: Cost = 18096799.6474, w = [3575.2301, 1927.9012, 577.8822, 39.4980, 9367.8926, -22.8542, -314.7942, -260.2906], b = 13078.0962\n",
      "Iteration 501: Cost = 18046774.4321, w = [3617.9402, 1957.4786, 576.4708, 7.3782, 9490.9429, -46.8295, -378.8556, -290.6213], b = 13228.1034\n",
      "Iteration 601: Cost = 18037378.3245, w = [3633.2062, 1973.1785, 575.1167, -7.9872, 9539.0540, -69.6738, -420.1691, -316.5858], b = 13283.0108\n",
      "Iteration 701: Cost = 18034807.7606, w = [3638.4828, 1982.1134, 574.3885, -14.9959, 9558.0977, -88.7812, -448.0780, -337.3520], b = 13303.1087\n",
      "Iteration 801: Cost = 18033772.6937, w = [3640.2013, 1987.5016, 574.0956, -18.0822, 9565.7593, -103.8683, -467.6088, -353.3909], b = 13310.4652\n",
      "Iteration 901: Cost = 18033260.0117, w = [3640.6947, 1990.9167, 574.0232, -19.3964, 9568.9153, -115.4457, -481.5962, -365.5517], b = 13313.1579\n",
      "Iteration 1001: Cost = 18032986.8881, w = [3640.7905, 1993.1734, 574.0430, -19.9324, 9570.2628, -124.1970, -491.7560, -374.6805], b = 13314.1436\n",
      "Iteration 1101: Cost = 18032838.2030, w = [3640.7721, 1994.7153, 574.0920, -20.1358, 9570.8694, -130.7575, -499.1971, -381.4955], b = 13314.5043\n",
      "Iteration 1201: Cost = 18032756.7585, w = [3640.7308, 1995.7956, 574.1439, -20.2015, 9571.1633, -135.6526, -504.6735, -386.5675], b = 13314.6364\n",
      "Iteration 1301: Cost = 18032712.0665, w = [3640.6929, 1996.5666, 574.1891, -20.2131, 9571.3188, -139.2950, -508.7154, -390.3355], b = 13314.6847\n",
      "Iteration 1401: Cost = 18032687.5291, w = [3640.6635, 1997.1238, 574.2256, -20.2057, 9571.4091, -142.0010, -511.7033, -393.1320], b = 13314.7024\n",
      "Iteration 1501: Cost = 18032674.0551, w = [3640.6419, 1997.5301, 574.2538, -20.1933, 9571.4659, -144.0094, -513.9143, -395.2062], b = 13314.7089\n",
      "Iteration 1601: Cost = 18032666.6559, w = [3640.6263, 1997.8280, 574.2752, -20.1810, 9571.5039, -145.4991, -515.5513, -396.7441], b = 13314.7113\n",
      "Iteration 1701: Cost = 18032662.5926, w = [3640.6150, 1998.0473, 574.2913, -20.1707, 9571.5304, -146.6037, -516.7638, -397.8842], b = 13314.7121\n",
      "Iteration 1801: Cost = 18032660.3612, w = [3640.6069, 1998.2090, 574.3034, -20.1624, 9571.5493, -147.4226, -517.6620, -398.7292], b = 13314.7124\n",
      "Iteration 1901: Cost = 18032659.1358, w = [3640.6010, 1998.3286, 574.3123, -20.1560, 9571.5631, -148.0295, -518.3275, -399.3554], b = 13314.7126\n",
      "Iteration 2001: Cost = 18032658.4628, w = [3640.5967, 1998.4170, 574.3190, -20.1512, 9571.5732, -148.4794, -518.8206, -399.8196], b = 13314.7126\n",
      "Iteration 2101: Cost = 18032658.0933, w = [3640.5935, 1998.4825, 574.3239, -20.1476, 9571.5806, -148.8128, -519.1860, -400.1636], b = 13314.7126\n",
      "Iteration 2201: Cost = 18032657.8903, w = [3640.5911, 1998.5310, 574.3276, -20.1449, 9571.5861, -149.0598, -519.4568, -400.4185], b = 13314.7126\n",
      "Iteration 2301: Cost = 18032657.7789, w = [3640.5894, 1998.5669, 574.3303, -20.1429, 9571.5901, -149.2429, -519.6574, -400.6074], b = 13314.7126\n",
      "Iteration 2401: Cost = 18032657.7177, w = [3640.5881, 1998.5935, 574.3323, -20.1414, 9571.5931, -149.3786, -519.8061, -400.7474], b = 13314.7126\n",
      "Iteration 2501: Cost = 18032657.6841, w = [3640.5872, 1998.6132, 574.3338, -20.1403, 9571.5953, -149.4792, -519.9163, -400.8511], b = 13314.7126\n",
      "Iteration 2601: Cost = 18032657.6656, w = [3640.5865, 1998.6278, 574.3349, -20.1394, 9571.5970, -149.5537, -519.9979, -400.9280], b = 13314.7126\n",
      "Iteration 2701: Cost = 18032657.6555, w = [3640.5860, 1998.6386, 574.3357, -20.1388, 9571.5982, -149.6089, -520.0584, -400.9849], b = 13314.7126\n",
      "Iteration 2801: Cost = 18032657.6499, w = [3640.5856, 1998.6467, 574.3363, -20.1384, 9571.5991, -149.6499, -520.1033, -401.0272], b = 13314.7126\n",
      "Iteration 2901: Cost = 18032657.6468, w = [3640.5853, 1998.6526, 574.3367, -20.1380, 9571.5998, -149.6802, -520.1365, -401.0585], b = 13314.7126\n",
      "Iteration 3001: Cost = 18032657.6452, w = [3640.5851, 1998.6570, 574.3371, -20.1378, 9571.6003, -149.7027, -520.1611, -401.0816], b = 13314.7126\n",
      "Iteration 3101: Cost = 18032657.6442, w = [3640.5850, 1998.6603, 574.3373, -20.1376, 9571.6006, -149.7193, -520.1794, -401.0988], b = 13314.7126\n",
      "Iteration 3201: Cost = 18032657.6437, w = [3640.5848, 1998.6627, 574.3375, -20.1375, 9571.6009, -149.7317, -520.1929, -401.1116], b = 13314.7126\n",
      "Iteration 3301: Cost = 18032657.6435, w = [3640.5847, 1998.6645, 574.3376, -20.1374, 9571.6011, -149.7408, -520.2029, -401.1210], b = 13314.7126\n",
      "Iteration 3401: Cost = 18032657.6433, w = [3640.5847, 1998.6658, 574.3377, -20.1373, 9571.6013, -149.7476, -520.2103, -401.1280], b = 13314.7126\n",
      "Iteration 3501: Cost = 18032657.6432, w = [3640.5846, 1998.6668, 574.3378, -20.1372, 9571.6014, -149.7526, -520.2158, -401.1332], b = 13314.7126\n",
      "Iteration 3601: Cost = 18032657.6432, w = [3640.5846, 1998.6675, 574.3379, -20.1372, 9571.6015, -149.7563, -520.2199, -401.1370], b = 13314.7126\n",
      "Iteration 3701: Cost = 18032657.6431, w = [3640.5846, 1998.6681, 574.3379, -20.1372, 9571.6015, -149.7591, -520.2229, -401.1398], b = 13314.7126\n",
      "Iteration 3801: Cost = 18032657.6431, w = [3640.5846, 1998.6685, 574.3379, -20.1371, 9571.6016, -149.7611, -520.2252, -401.1420], b = 13314.7126\n",
      "Iteration 3901: Cost = 18032657.6431, w = [3640.5845, 1998.6688, 574.3380, -20.1371, 9571.6016, -149.7626, -520.2268, -401.1435], b = 13314.7126\n",
      "Iteration 4001: Cost = 18032657.6431, w = [3640.5845, 1998.6690, 574.3380, -20.1371, 9571.6016, -149.7638, -520.2281, -401.1447], b = 13314.7126\n",
      "Iteration 4101: Cost = 18032657.6431, w = [3640.5845, 1998.6692, 574.3380, -20.1371, 9571.6016, -149.7646, -520.2290, -401.1455], b = 13314.7126\n",
      "Iteration 4201: Cost = 18032657.6431, w = [3640.5845, 1998.6693, 574.3380, -20.1371, 9571.6017, -149.7652, -520.2296, -401.1462], b = 13314.7126\n",
      "Iteration 4301: Cost = 18032657.6431, w = [3640.5845, 1998.6694, 574.3380, -20.1371, 9571.6017, -149.7657, -520.2301, -401.1466], b = 13314.7126\n",
      "Iteration 4401: Cost = 18032657.6431, w = [3640.5845, 1998.6694, 574.3380, -20.1371, 9571.6017, -149.7660, -520.2305, -401.1470], b = 13314.7126\n",
      "Iteration 4501: Cost = 18032657.6431, w = [3640.5845, 1998.6695, 574.3380, -20.1371, 9571.6017, -149.7663, -520.2308, -401.1472], b = 13314.7126\n",
      "Iteration 4601: Cost = 18032657.6431, w = [3640.5845, 1998.6695, 574.3380, -20.1371, 9571.6017, -149.7664, -520.2310, -401.1474], b = 13314.7126\n",
      "Iteration 4701: Cost = 18032657.6431, w = [3640.5845, 1998.6695, 574.3380, -20.1371, 9571.6017, -149.7666, -520.2311, -401.1476], b = 13314.7126\n",
      "Iteration 4801: Cost = 18032657.6431, w = [3640.5845, 1998.6696, 574.3380, -20.1371, 9571.6017, -149.7667, -520.2313, -401.1477], b = 13314.7126\n",
      "Iteration 4901: Cost = 18032657.6431, w = [3640.5845, 1998.6696, 574.3380, -20.1371, 9571.6017, -149.7668, -520.2313, -401.1478], b = 13314.7126\n",
      "Iteration 5000: Cost = 18032657.6431, w = [3640.5845, 1998.6696, 574.3380, -20.1371, 9571.6017, -149.7668, -520.2314, -401.1478], b = 13314.7126\n"
     ]
    }
   ],
   "source": [
    "X_train_df = pd.DataFrame(X_train, columns=X.columns)\n",
    "X_train_encoded = X_train_df.astype(float)\n",
    "X_mean = X_train_encoded.mean(axis=0)\n",
    "X_std = X_train_encoded.std(axis=0)\n",
    "\n",
    "X_std[X_std == 0] = 1 \n",
    "X_train_norm = (X_train_encoded - X_mean) / X_std\n",
    "\n",
    "\n",
    "y_train_np = y_train.astype(np.float64)\n",
    "\n",
    "w_init = np.zeros(X_train_norm.shape[1])\n",
    "b_init = 0\n",
    "learning_rate = 0.01\n",
    "iterations = 5000\n",
    "w, b = gradient_descent(X_train_norm.values, y_train_np, w_init, b_init, learning_rate, iterations) \n",
    "\n"
   ]
  },
  {
   "cell_type": "code",
   "execution_count": 81,
   "id": "3f30485b-b008-4350-b982-0c2f07293d63",
   "metadata": {},
   "outputs": [],
   "source": [
    "def predict(X, w, b):\n",
    "    return np.dot(X, w) + b\n",
    "    \n",
    "Y_pred = predict(X_train_norm.values, w, b)\n",
    "\n"
   ]
  },
  {
   "cell_type": "code",
   "execution_count": 82,
   "id": "de43a650-0772-41e1-a65a-3a5d22b91a4e",
   "metadata": {},
   "outputs": [
    {
     "data": {
      "image/png": "[encoded data removed]",
      "text/plain": [
       "<Figure size 800x600 with 1 Axes>"
      ]
     },
     "metadata": {},
     "output_type": "display_data"
    }
   ],
   "source": [
    "plt.figure(figsize=(8, 6))\n",
    "plt.scatter(y_train, Y_pred, color='blue', alpha=0.6)\n",
    "plt.plot([y_train.min(), y_train.max()], [y_train.min(), y_train.max()], color='red', linewidth=2)\n",
    "plt.xlabel(\"Actual Values\")\n",
    "plt.ylabel(\"Predicted Values\")\n",
    "plt.title(\"Actual vs Predicted (Training Data)\")\n",
    "plt.show()"
   ]
  },
  {
   "cell_type": "code",
   "execution_count": 83,
   "id": "2c0d107b-4896-4c55-907e-bb139bddae6e",
   "metadata": {},
   "outputs": [
    {
     "name": "stdout",
     "output_type": "stream",
     "text": [
      "Linear Regression R² Score : 0.75\n"
     ]
    }
   ],
   "source": [
    "X_test_df = pd.DataFrame(X_test, columns=X.columns)\n",
    "X_test_encoded = X_test_df.astype(float) \n",
    "X_test_norm = (X_test_encoded - X_mean) / X_std\n",
    "X_test_norm[np.isnan(X_test_norm)] = 0 \n",
    "y_pred_test = predict(X_test_norm.values, w, b)\n",
    "\n",
    "\n",
    "ss_tot = np.sum((y_test - np.mean(y_test)) ** 2)\n",
    "ss_res = np.sum((y_test - y_pred_test) ** 2)\n",
    "r2_score = 1 - (ss_res / ss_tot)\n",
    "\n",
    "print(f\"Linear Regression R² Score : {round(r2_score, 2)}\")"
   ]
  },
  {
   "cell_type": "code",
   "execution_count": 84,
   "id": "50371575-5c0e-4e99-b6bd-aab00dd6ee95",
   "metadata": {},
   "outputs": [
    {
     "name": "stdout",
     "output_type": "stream",
     "text": [
      "Linear Regression R² Score : 0.75\n"
     ]
    }
   ],
   "source": [
    "X_ne = insurance_encoded.drop(\"charges\", axis=1).astype(float)\n",
    "y_ne = insurance_encoded[\"charges\"].astype(float)\n",
    "\n",
    "X_train_ne, X_test_ne, y_train_ne, y_test_ne = train_test_split(X_ne, y_ne, test_size=0.2, random_state=42)\n",
    "\n",
    "X_train_ne_bias = np.c_[np.ones(X_train_ne.shape[0]), X_train_ne]\n",
    "X_test_ne_bias = np.c_[np.ones(X_test_ne.shape[0]), X_test_ne]\n",
    "\n",
    "\n",
    "XtX = np.dot(X_train_ne_bias.T, X_train_ne_bias)\n",
    "Xty = np.dot(X_train_ne_bias.T, y_train_ne)\n",
    "try:\n",
    "    theta = np.linalg.solve(XtX, Xty)\n",
    "except np.linalg.LinAlgError:\n",
    "    theta = np.dot(np.linalg.pinv(XtX), Xty)\n",
    "y_pred_ne = np.dot(X_test_ne_bias, theta)\n",
    "\n",
    "ss_tot_ne = np.sum((y_test_ne - np.mean(y_test_ne)) ** 2)\n",
    "ss_res_ne = np.sum((y_test_ne - y_pred_ne) ** 2)\n",
    "r2_score_ne = 1 - (ss_res_ne / ss_tot_ne)\n",
    "\n",
    "print(\"Linear Regression R² Score :\", round(r2_score_ne, 2))"
   ]
  },
  {
   "cell_type": "code",
   "execution_count": 91,
   "id": "603083bd-ea31-4d4c-89e7-057f993801b8",
   "metadata": {},
   "outputs": [
    {
     "name": "stdout",
     "output_type": "stream",
     "text": [
      "Thus R^2 value obtained by both methods is the same \n"
     ]
    }
   ],
   "source": [
    "print(\"Thus R^2 value obtained by both methods is the same \")"
   ]
  }
 ],
 "metadata": {
  "kernelspec": {
   "display_name": "Python [conda env:base] *",
   "language": "python",
   "name": "conda-base-py"
  },
  "language_info": {
   "codemirror_mode": {
    "name": "ipython",
    "version": 3
   },
   "file_extension": ".py",
   "mimetype": "text/x-python",
   "name": "python",
   "nbconvert_exporter": "python",
   "pygments_lexer": "ipython3",
   "version": "3.12.7"
  }
 },
 "nbformat": 4,
 "nbformat_minor": 5
}
